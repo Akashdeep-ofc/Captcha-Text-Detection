{
 "cells": [
  {
   "cell_type": "code",
   "execution_count": 1,
   "id": "603759d1-a540-4c66-91ed-b71233c38315",
   "metadata": {},
   "outputs": [
    {
     "name": "stdout",
     "output_type": "stream",
     "text": [
      "Requirement already satisfied: captcha in /opt/homebrew/anaconda3/lib/python3.12/site-packages (0.7.1)\n",
      "Requirement already satisfied: Pillow in /opt/homebrew/anaconda3/lib/python3.12/site-packages (from captcha) (10.3.0)\n"
     ]
    }
   ],
   "source": [
    "# run in a separate cell (one-time)\n",
    "!pip install captcha   # if not installed\n",
    "\n",
    "from captcha.image import ImageCaptcha\n",
    "import random, string, os\n",
    "os.makedirs(\"data/captcha_images\", exist_ok=True)\n",
    "ic = ImageCaptcha(width=160, height=60)  # tune size if you want\n",
    "\n",
    "def gen_captchas(out_dir=\"data/captcha_images\", n=5000, length=5):\n",
    "    chars = string.ascii_uppercase + \"0123456789\"\n",
    "    for i in range(n):\n",
    "        text = ''.join(random.choices(chars, k=length))\n",
    "        # include index to guarantee unique filename; label parsing below will extract before '_'\n",
    "        fname = f\"{text}_{i}.png\"\n",
    "        ic.write(text, os.path.join(out_dir, fname))\n",
    "\n",
    "# generate 5000 training-like images\n",
    "gen_captchas(n=5000, length=5)\n"
   ]
  },
  {
   "cell_type": "code",
   "execution_count": null,
   "id": "85bf0a87-feb3-41ce-bc55-eb8b6daa1bdb",
   "metadata": {},
   "outputs": [],
   "source": []
  }
 ],
 "metadata": {
  "kernelspec": {
   "display_name": "Python 3 (ipykernel)",
   "language": "python",
   "name": "python3"
  },
  "language_info": {
   "codemirror_mode": {
    "name": "ipython",
    "version": 3
   },
   "file_extension": ".py",
   "mimetype": "text/x-python",
   "name": "python",
   "nbconvert_exporter": "python",
   "pygments_lexer": "ipython3",
   "version": "3.12.4"
  }
 },
 "nbformat": 4,
 "nbformat_minor": 5
}
